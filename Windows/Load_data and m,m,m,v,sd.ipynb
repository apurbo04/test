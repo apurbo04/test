{
 "cells": [
  {
   "cell_type": "code",
   "execution_count": 21,
   "id": "f3e31b77",
   "metadata": {},
   "outputs": [],
   "source": [
    "import pandas as pd\n",
    "import statistics as st"
   ]
  },
  {
   "cell_type": "code",
   "execution_count": 22,
   "id": "bf7aac90",
   "metadata": {},
   "outputs": [],
   "source": [
    "data= {'Name': ['Mitu','Shahadat','Masud','Sourov','Mahi','Sumaiya'],\n",
    "      'Age': [23,23,24,22,22,20],\n",
    "      'Gender': ['F','M','M','M','F','F'],\n",
    "      'Marks': [80,83,70,90,72,56]}"
   ]
  },
  {
   "cell_type": "code",
   "execution_count": 23,
   "id": "773c3fba",
   "metadata": {},
   "outputs": [
    {
     "data": {
      "text/html": [
       "<div>\n",
       "<style scoped>\n",
       "    .dataframe tbody tr th:only-of-type {\n",
       "        vertical-align: middle;\n",
       "    }\n",
       "\n",
       "    .dataframe tbody tr th {\n",
       "        vertical-align: top;\n",
       "    }\n",
       "\n",
       "    .dataframe thead th {\n",
       "        text-align: right;\n",
       "    }\n",
       "</style>\n",
       "<table border=\"1\" class=\"dataframe\">\n",
       "  <thead>\n",
       "    <tr style=\"text-align: right;\">\n",
       "      <th></th>\n",
       "      <th>Name</th>\n",
       "      <th>Age</th>\n",
       "      <th>Gender</th>\n",
       "      <th>Marks</th>\n",
       "    </tr>\n",
       "  </thead>\n",
       "  <tbody>\n",
       "    <tr>\n",
       "      <th>0</th>\n",
       "      <td>Mitu</td>\n",
       "      <td>23</td>\n",
       "      <td>F</td>\n",
       "      <td>80</td>\n",
       "    </tr>\n",
       "    <tr>\n",
       "      <th>1</th>\n",
       "      <td>Shahadat</td>\n",
       "      <td>23</td>\n",
       "      <td>M</td>\n",
       "      <td>83</td>\n",
       "    </tr>\n",
       "    <tr>\n",
       "      <th>2</th>\n",
       "      <td>Masud</td>\n",
       "      <td>24</td>\n",
       "      <td>M</td>\n",
       "      <td>70</td>\n",
       "    </tr>\n",
       "    <tr>\n",
       "      <th>3</th>\n",
       "      <td>Sourov</td>\n",
       "      <td>22</td>\n",
       "      <td>M</td>\n",
       "      <td>90</td>\n",
       "    </tr>\n",
       "    <tr>\n",
       "      <th>4</th>\n",
       "      <td>Mahi</td>\n",
       "      <td>22</td>\n",
       "      <td>F</td>\n",
       "      <td>72</td>\n",
       "    </tr>\n",
       "    <tr>\n",
       "      <th>5</th>\n",
       "      <td>Sumaiya</td>\n",
       "      <td>20</td>\n",
       "      <td>F</td>\n",
       "      <td>56</td>\n",
       "    </tr>\n",
       "  </tbody>\n",
       "</table>\n",
       "</div>"
      ],
      "text/plain": [
       "       Name  Age Gender  Marks\n",
       "0      Mitu   23      F     80\n",
       "1  Shahadat   23      M     83\n",
       "2     Masud   24      M     70\n",
       "3    Sourov   22      M     90\n",
       "4      Mahi   22      F     72\n",
       "5   Sumaiya   20      F     56"
      ]
     },
     "execution_count": 23,
     "metadata": {},
     "output_type": "execute_result"
    }
   ],
   "source": [
    "df =pd.DataFrame(data)\n",
    "df"
   ]
  },
  {
   "cell_type": "code",
   "execution_count": 24,
   "id": "0cbfc1cf",
   "metadata": {},
   "outputs": [
    {
     "data": {
      "text/plain": [
       "75.16666666666667"
      ]
     },
     "execution_count": 24,
     "metadata": {},
     "output_type": "execute_result"
    }
   ],
   "source": [
    "st.mean(df['Marks'])"
   ]
  },
  {
   "cell_type": "code",
   "execution_count": 26,
   "id": "f6dddd1f",
   "metadata": {},
   "outputs": [
    {
     "data": {
      "text/plain": [
       "76.0"
      ]
     },
     "execution_count": 26,
     "metadata": {},
     "output_type": "execute_result"
    }
   ],
   "source": [
    "st.median(df['Marks'])"
   ]
  },
  {
   "cell_type": "code",
   "execution_count": 27,
   "id": "a37062c6",
   "metadata": {},
   "outputs": [
    {
     "data": {
      "text/plain": [
       "80"
      ]
     },
     "execution_count": 27,
     "metadata": {},
     "output_type": "execute_result"
    }
   ],
   "source": [
    "st.mode(df['Marks'])"
   ]
  },
  {
   "cell_type": "code",
   "execution_count": 28,
   "id": "585f59a3",
   "metadata": {},
   "outputs": [
    {
     "data": {
      "text/plain": [
       "11.906580813426947"
      ]
     },
     "execution_count": 28,
     "metadata": {},
     "output_type": "execute_result"
    }
   ],
   "source": [
    "st.stdev(df['Marks'])"
   ]
  },
  {
   "cell_type": "code",
   "execution_count": 29,
   "id": "ddd870da",
   "metadata": {},
   "outputs": [
    {
     "data": {
      "text/plain": [
       "141.76666666666668"
      ]
     },
     "execution_count": 29,
     "metadata": {},
     "output_type": "execute_result"
    }
   ],
   "source": [
    "st.variance(df['Marks'])"
   ]
  },
  {
   "cell_type": "code",
   "execution_count": null,
   "id": "5730cd56",
   "metadata": {},
   "outputs": [],
   "source": []
  }
 ],
 "metadata": {
  "kernelspec": {
   "display_name": "Python 3",
   "language": "python",
   "name": "python3"
  },
  "language_info": {
   "codemirror_mode": {
    "name": "ipython",
    "version": 3
   },
   "file_extension": ".py",
   "mimetype": "text/x-python",
   "name": "python",
   "nbconvert_exporter": "python",
   "pygments_lexer": "ipython3",
   "version": "3.10.9"
  }
 },
 "nbformat": 4,
 "nbformat_minor": 5
}
